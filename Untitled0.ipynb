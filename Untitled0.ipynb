{
  "nbformat": 4,
  "nbformat_minor": 0,
  "metadata": {
    "colab": {
      "provenance": []
    },
    "kernelspec": {
      "name": "python3",
      "display_name": "Python 3"
    },
    "language_info": {
      "name": "python"
    }
  },
  "cells": [
    {
      "cell_type": "code",
      "execution_count": 1,
      "metadata": {
        "colab": {
          "base_uri": "https://localhost:8080/",
          "height": 263
        },
        "id": "furDTU6ERhVC",
        "outputId": "818b106b-3e99-4e97-da4b-79ca385ea1a5"
      },
      "outputs": [
        {
          "output_type": "error",
          "ename": "SyntaxError",
          "evalue": "invalid syntax (ipython-input-2571154401.py, line 1)",
          "traceback": [
            "\u001b[0;36m  File \u001b[0;32m\"/tmp/ipython-input-2571154401.py\"\u001b[0;36m, line \u001b[0;32m1\u001b[0m\n\u001b[0;31m    El texto describe la **evolución constitucional de Panamá**, presentando una cronología de sus diversas cartas magnas desde su independencia. Inicia con la **primera Constitución de 1904**, marcada por influencias externas y relaciones especiales con Estados Unidos. Posteriormente, se menciona la **Constitución de 1941**, de carácter nacionalista y centralista, seguida por la **restauradora Constitución de 1946** que buscó un orden social más democrático. Las reformas de **1972 bajo el régimen militar** concentraron el poder en el ejecutivo, aunque **ajustes posteriores en 1978 y 1983** introdujeron cambios significativos en la estructura del poder y derechos. Finalmente, se destacan las **reformas de 1994 y 2004**, enfocadas en fortalecer la democracia, la participación ciudadana y modernizar el marco constitucional del país.\u001b[0m\n\u001b[0m       ^\u001b[0m\n\u001b[0;31mSyntaxError\u001b[0m\u001b[0;31m:\u001b[0m invalid syntax\n"
          ]
        }
      ],
      "source": [
        "El texto describe la **evolución constitucional de Panamá**, presentando una cronología de sus diversas cartas magnas desde su independencia. Inicia con la **primera Constitución de 1904**, marcada por influencias externas y relaciones especiales con Estados Unidos. Posteriormente, se menciona la **Constitución de 1941**, de carácter nacionalista y centralista, seguida por la **restauradora Constitución de 1946** que buscó un orden social más democrático. Las reformas de **1972 bajo el régimen militar** concentraron el poder en el ejecutivo, aunque **ajustes posteriores en 1978 y 1983** introdujeron cambios significativos en la estructura del poder y derechos. Finalmente, se destacan las **reformas de 1994 y 2004**, enfocadas en fortalecer la democracia, la participación ciudadana y modernizar el marco constitucional del país.\n"
      ]
    },
    {
      "cell_type": "markdown",
      "source": [
        "El texto describe la **evolución constitucional de Panamá**, presentando una cronología de sus diversas cartas magnas desde su independencia. Inicia con la **primera Constitución de 1904**, marcada por influencias externas y relaciones especiales con Estados Unidos. Posteriormente, se menciona la **Constitución de 1941**, de carácter nacionalista y centralista, seguida por la **restauradora Constitución de 1946** que buscó un orden social más democrático. Las reformas de **1972 bajo el régimen militar** concentraron el poder en el ejecutivo, aunque **ajustes posteriores en 1978 y 1983** introdujeron cambios significativos en la estructura del poder y derechos. Finalmente, se destacan las **reformas de 1994 y 2004**, enfocadas en fortalecer la democracia, la participación ciudadana y modernizar el marco constitucional del país."
      ],
      "metadata": {
        "id": "DFoKN5u1SKQB"
      }
    }
  ]
}